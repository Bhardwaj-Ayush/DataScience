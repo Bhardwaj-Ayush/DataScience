{
 "cells": [
  {
   "cell_type": "markdown",
   "id": "37774f41-a253-42b3-b60c-e59cbc0a39b6",
   "metadata": {},
   "source": [
    "## EDA And Feature Engineering Of Google Play Store Dataset\n",
    "\n",
    "1) Problem statement.\n",
    "Today, 1.85 million different apps are available for users to download. Android users have even more from which to choose, with 2.56 million available through the Google Play Store. These apps have come to play a huge role in the way we live our lives today. Our Objective is to find the Most Popular Category, find the App with largest number of installs , the App with largest size etc.\n",
    "2) Data Collection.\n",
    "\n",
    "The data consists of 20 column and 10841 rows.\n"
   ]
  },
  {
   "cell_type": "code",
   "execution_count": 87,
   "id": "f7aed3bc-76f9-40af-afe6-3cdc1613275f",
   "metadata": {},
   "outputs": [],
   "source": [
    "import pandas as pd\n",
    "import numpy as np\n",
    "import matplotlib.pyplot as plt\n",
    "import seaborn as sns\n",
    "import warnings\n",
    "\n",
    "warnings.filterwarnings('ignore')\n"
   ]
  },
  {
   "cell_type": "code",
   "execution_count": 88,
   "id": "35a86ff2-5745-496a-a294-4bf48fba61b7",
   "metadata": {},
   "outputs": [
    {
     "data": {
      "text/html": [
       "<div>\n",
       "<style scoped>\n",
       "    .dataframe tbody tr th:only-of-type {\n",
       "        vertical-align: middle;\n",
       "    }\n",
       "\n",
       "    .dataframe tbody tr th {\n",
       "        vertical-align: top;\n",
       "    }\n",
       "\n",
       "    .dataframe thead th {\n",
       "        text-align: right;\n",
       "    }\n",
       "</style>\n",
       "<table border=\"1\" class=\"dataframe\">\n",
       "  <thead>\n",
       "    <tr style=\"text-align: right;\">\n",
       "      <th></th>\n",
       "      <th>App</th>\n",
       "      <th>Category</th>\n",
       "      <th>Rating</th>\n",
       "      <th>Reviews</th>\n",
       "      <th>Size</th>\n",
       "      <th>Installs</th>\n",
       "      <th>Type</th>\n",
       "      <th>Price</th>\n",
       "      <th>Content Rating</th>\n",
       "      <th>Genres</th>\n",
       "      <th>Last Updated</th>\n",
       "      <th>Current Ver</th>\n",
       "      <th>Android Ver</th>\n",
       "    </tr>\n",
       "  </thead>\n",
       "  <tbody>\n",
       "    <tr>\n",
       "      <th>0</th>\n",
       "      <td>Photo Editor &amp; Candy Camera &amp; Grid &amp; ScrapBook</td>\n",
       "      <td>ART_AND_DESIGN</td>\n",
       "      <td>4.1</td>\n",
       "      <td>159</td>\n",
       "      <td>19M</td>\n",
       "      <td>10,000+</td>\n",
       "      <td>Free</td>\n",
       "      <td>0</td>\n",
       "      <td>Everyone</td>\n",
       "      <td>Art &amp; Design</td>\n",
       "      <td>January 7, 2018</td>\n",
       "      <td>1.0.0</td>\n",
       "      <td>4.0.3 and up</td>\n",
       "    </tr>\n",
       "    <tr>\n",
       "      <th>1</th>\n",
       "      <td>Coloring book moana</td>\n",
       "      <td>ART_AND_DESIGN</td>\n",
       "      <td>3.9</td>\n",
       "      <td>967</td>\n",
       "      <td>14M</td>\n",
       "      <td>500,000+</td>\n",
       "      <td>Free</td>\n",
       "      <td>0</td>\n",
       "      <td>Everyone</td>\n",
       "      <td>Art &amp; Design;Pretend Play</td>\n",
       "      <td>January 15, 2018</td>\n",
       "      <td>2.0.0</td>\n",
       "      <td>4.0.3 and up</td>\n",
       "    </tr>\n",
       "    <tr>\n",
       "      <th>2</th>\n",
       "      <td>U Launcher Lite – FREE Live Cool Themes, Hide ...</td>\n",
       "      <td>ART_AND_DESIGN</td>\n",
       "      <td>4.7</td>\n",
       "      <td>87510</td>\n",
       "      <td>8.7M</td>\n",
       "      <td>5,000,000+</td>\n",
       "      <td>Free</td>\n",
       "      <td>0</td>\n",
       "      <td>Everyone</td>\n",
       "      <td>Art &amp; Design</td>\n",
       "      <td>August 1, 2018</td>\n",
       "      <td>1.2.4</td>\n",
       "      <td>4.0.3 and up</td>\n",
       "    </tr>\n",
       "    <tr>\n",
       "      <th>3</th>\n",
       "      <td>Sketch - Draw &amp; Paint</td>\n",
       "      <td>ART_AND_DESIGN</td>\n",
       "      <td>4.5</td>\n",
       "      <td>215644</td>\n",
       "      <td>25M</td>\n",
       "      <td>50,000,000+</td>\n",
       "      <td>Free</td>\n",
       "      <td>0</td>\n",
       "      <td>Teen</td>\n",
       "      <td>Art &amp; Design</td>\n",
       "      <td>June 8, 2018</td>\n",
       "      <td>Varies with device</td>\n",
       "      <td>4.2 and up</td>\n",
       "    </tr>\n",
       "    <tr>\n",
       "      <th>4</th>\n",
       "      <td>Pixel Draw - Number Art Coloring Book</td>\n",
       "      <td>ART_AND_DESIGN</td>\n",
       "      <td>4.3</td>\n",
       "      <td>967</td>\n",
       "      <td>2.8M</td>\n",
       "      <td>100,000+</td>\n",
       "      <td>Free</td>\n",
       "      <td>0</td>\n",
       "      <td>Everyone</td>\n",
       "      <td>Art &amp; Design;Creativity</td>\n",
       "      <td>June 20, 2018</td>\n",
       "      <td>1.1</td>\n",
       "      <td>4.4 and up</td>\n",
       "    </tr>\n",
       "  </tbody>\n",
       "</table>\n",
       "</div>"
      ],
      "text/plain": [
       "                                                 App        Category  Rating  \\\n",
       "0     Photo Editor & Candy Camera & Grid & ScrapBook  ART_AND_DESIGN     4.1   \n",
       "1                                Coloring book moana  ART_AND_DESIGN     3.9   \n",
       "2  U Launcher Lite – FREE Live Cool Themes, Hide ...  ART_AND_DESIGN     4.7   \n",
       "3                              Sketch - Draw & Paint  ART_AND_DESIGN     4.5   \n",
       "4              Pixel Draw - Number Art Coloring Book  ART_AND_DESIGN     4.3   \n",
       "\n",
       "  Reviews  Size     Installs  Type Price Content Rating  \\\n",
       "0     159   19M      10,000+  Free     0       Everyone   \n",
       "1     967   14M     500,000+  Free     0       Everyone   \n",
       "2   87510  8.7M   5,000,000+  Free     0       Everyone   \n",
       "3  215644   25M  50,000,000+  Free     0           Teen   \n",
       "4     967  2.8M     100,000+  Free     0       Everyone   \n",
       "\n",
       "                      Genres      Last Updated         Current Ver  \\\n",
       "0               Art & Design   January 7, 2018               1.0.0   \n",
       "1  Art & Design;Pretend Play  January 15, 2018               2.0.0   \n",
       "2               Art & Design    August 1, 2018               1.2.4   \n",
       "3               Art & Design      June 8, 2018  Varies with device   \n",
       "4    Art & Design;Creativity     June 20, 2018                 1.1   \n",
       "\n",
       "    Android Ver  \n",
       "0  4.0.3 and up  \n",
       "1  4.0.3 and up  \n",
       "2  4.0.3 and up  \n",
       "3    4.2 and up  \n",
       "4    4.4 and up  "
      ]
     },
     "execution_count": 88,
     "metadata": {},
     "output_type": "execute_result"
    }
   ],
   "source": [
    "#importing the dataset\n",
    "\n",
    "data = pd.read_csv(\"Playstore.csv\")\n",
    "data.head()"
   ]
  },
  {
   "cell_type": "code",
   "execution_count": 89,
   "id": "5231af0c-4776-4d78-ae1f-36c5988e1d26",
   "metadata": {},
   "outputs": [
    {
     "data": {
      "text/plain": [
       "(10841, 13)"
      ]
     },
     "execution_count": 89,
     "metadata": {},
     "output_type": "execute_result"
    }
   ],
   "source": [
    "data.shape #shape"
   ]
  },
  {
   "cell_type": "code",
   "execution_count": 90,
   "id": "ec3180bf-b0dd-4f8a-a73e-07c9a3061dc2",
   "metadata": {},
   "outputs": [
    {
     "name": "stdout",
     "output_type": "stream",
     "text": [
      "<class 'pandas.core.frame.DataFrame'>\n",
      "RangeIndex: 10841 entries, 0 to 10840\n",
      "Data columns (total 13 columns):\n",
      " #   Column          Non-Null Count  Dtype  \n",
      "---  ------          --------------  -----  \n",
      " 0   App             10841 non-null  object \n",
      " 1   Category        10841 non-null  object \n",
      " 2   Rating          9367 non-null   float64\n",
      " 3   Reviews         10841 non-null  object \n",
      " 4   Size            10841 non-null  object \n",
      " 5   Installs        10841 non-null  object \n",
      " 6   Type            10840 non-null  object \n",
      " 7   Price           10841 non-null  object \n",
      " 8   Content Rating  10840 non-null  object \n",
      " 9   Genres          10841 non-null  object \n",
      " 10  Last Updated    10841 non-null  object \n",
      " 11  Current Ver     10833 non-null  object \n",
      " 12  Android Ver     10838 non-null  object \n",
      "dtypes: float64(1), object(12)\n",
      "memory usage: 1.1+ MB\n"
     ]
    }
   ],
   "source": [
    "# information of data\n",
    "data.info()"
   ]
  },
  {
   "cell_type": "markdown",
   "id": "7a41c0a6-9da7-4cd4-b37c-e0f74380c2da",
   "metadata": {},
   "source": [
    "### *Since all the columns are in object except Ratings, our task is to covert all the numeric column into int/float type for our model*"
   ]
  },
  {
   "cell_type": "code",
   "execution_count": 91,
   "id": "72d1f44d-47cb-4f5c-a749-a83fa6ac3975",
   "metadata": {},
   "outputs": [
    {
     "data": {
      "text/html": [
       "<div>\n",
       "<style scoped>\n",
       "    .dataframe tbody tr th:only-of-type {\n",
       "        vertical-align: middle;\n",
       "    }\n",
       "\n",
       "    .dataframe tbody tr th {\n",
       "        vertical-align: top;\n",
       "    }\n",
       "\n",
       "    .dataframe thead th {\n",
       "        text-align: right;\n",
       "    }\n",
       "</style>\n",
       "<table border=\"1\" class=\"dataframe\">\n",
       "  <thead>\n",
       "    <tr style=\"text-align: right;\">\n",
       "      <th></th>\n",
       "      <th>App</th>\n",
       "      <th>Category</th>\n",
       "      <th>Rating</th>\n",
       "      <th>Reviews</th>\n",
       "      <th>Size</th>\n",
       "      <th>Installs</th>\n",
       "      <th>Type</th>\n",
       "      <th>Price</th>\n",
       "      <th>Content Rating</th>\n",
       "      <th>Genres</th>\n",
       "      <th>Last Updated</th>\n",
       "      <th>Current Ver</th>\n",
       "      <th>Android Ver</th>\n",
       "    </tr>\n",
       "  </thead>\n",
       "  <tbody>\n",
       "    <tr>\n",
       "      <th>0</th>\n",
       "      <td>Photo Editor &amp; Candy Camera &amp; Grid &amp; ScrapBook</td>\n",
       "      <td>ART_AND_DESIGN</td>\n",
       "      <td>4.1</td>\n",
       "      <td>159</td>\n",
       "      <td>19M</td>\n",
       "      <td>10,000+</td>\n",
       "      <td>Free</td>\n",
       "      <td>0</td>\n",
       "      <td>Everyone</td>\n",
       "      <td>Art &amp; Design</td>\n",
       "      <td>January 7, 2018</td>\n",
       "      <td>1.0.0</td>\n",
       "      <td>4.0.3 and up</td>\n",
       "    </tr>\n",
       "    <tr>\n",
       "      <th>1</th>\n",
       "      <td>Coloring book moana</td>\n",
       "      <td>ART_AND_DESIGN</td>\n",
       "      <td>3.9</td>\n",
       "      <td>967</td>\n",
       "      <td>14M</td>\n",
       "      <td>500,000+</td>\n",
       "      <td>Free</td>\n",
       "      <td>0</td>\n",
       "      <td>Everyone</td>\n",
       "      <td>Art &amp; Design;Pretend Play</td>\n",
       "      <td>January 15, 2018</td>\n",
       "      <td>2.0.0</td>\n",
       "      <td>4.0.3 and up</td>\n",
       "    </tr>\n",
       "    <tr>\n",
       "      <th>2</th>\n",
       "      <td>U Launcher Lite – FREE Live Cool Themes, Hide ...</td>\n",
       "      <td>ART_AND_DESIGN</td>\n",
       "      <td>4.7</td>\n",
       "      <td>87510</td>\n",
       "      <td>8.7M</td>\n",
       "      <td>5,000,000+</td>\n",
       "      <td>Free</td>\n",
       "      <td>0</td>\n",
       "      <td>Everyone</td>\n",
       "      <td>Art &amp; Design</td>\n",
       "      <td>August 1, 2018</td>\n",
       "      <td>1.2.4</td>\n",
       "      <td>4.0.3 and up</td>\n",
       "    </tr>\n",
       "    <tr>\n",
       "      <th>3</th>\n",
       "      <td>Sketch - Draw &amp; Paint</td>\n",
       "      <td>ART_AND_DESIGN</td>\n",
       "      <td>4.5</td>\n",
       "      <td>215644</td>\n",
       "      <td>25M</td>\n",
       "      <td>50,000,000+</td>\n",
       "      <td>Free</td>\n",
       "      <td>0</td>\n",
       "      <td>Teen</td>\n",
       "      <td>Art &amp; Design</td>\n",
       "      <td>June 8, 2018</td>\n",
       "      <td>Varies with device</td>\n",
       "      <td>4.2 and up</td>\n",
       "    </tr>\n",
       "    <tr>\n",
       "      <th>4</th>\n",
       "      <td>Pixel Draw - Number Art Coloring Book</td>\n",
       "      <td>ART_AND_DESIGN</td>\n",
       "      <td>4.3</td>\n",
       "      <td>967</td>\n",
       "      <td>2.8M</td>\n",
       "      <td>100,000+</td>\n",
       "      <td>Free</td>\n",
       "      <td>0</td>\n",
       "      <td>Everyone</td>\n",
       "      <td>Art &amp; Design;Creativity</td>\n",
       "      <td>June 20, 2018</td>\n",
       "      <td>1.1</td>\n",
       "      <td>4.4 and up</td>\n",
       "    </tr>\n",
       "  </tbody>\n",
       "</table>\n",
       "</div>"
      ],
      "text/plain": [
       "                                                 App        Category  Rating  \\\n",
       "0     Photo Editor & Candy Camera & Grid & ScrapBook  ART_AND_DESIGN     4.1   \n",
       "1                                Coloring book moana  ART_AND_DESIGN     3.9   \n",
       "2  U Launcher Lite – FREE Live Cool Themes, Hide ...  ART_AND_DESIGN     4.7   \n",
       "3                              Sketch - Draw & Paint  ART_AND_DESIGN     4.5   \n",
       "4              Pixel Draw - Number Art Coloring Book  ART_AND_DESIGN     4.3   \n",
       "\n",
       "  Reviews  Size     Installs  Type Price Content Rating  \\\n",
       "0     159   19M      10,000+  Free     0       Everyone   \n",
       "1     967   14M     500,000+  Free     0       Everyone   \n",
       "2   87510  8.7M   5,000,000+  Free     0       Everyone   \n",
       "3  215644   25M  50,000,000+  Free     0           Teen   \n",
       "4     967  2.8M     100,000+  Free     0       Everyone   \n",
       "\n",
       "                      Genres      Last Updated         Current Ver  \\\n",
       "0               Art & Design   January 7, 2018               1.0.0   \n",
       "1  Art & Design;Pretend Play  January 15, 2018               2.0.0   \n",
       "2               Art & Design    August 1, 2018               1.2.4   \n",
       "3               Art & Design      June 8, 2018  Varies with device   \n",
       "4    Art & Design;Creativity     June 20, 2018                 1.1   \n",
       "\n",
       "    Android Ver  \n",
       "0  4.0.3 and up  \n",
       "1  4.0.3 and up  \n",
       "2  4.0.3 and up  \n",
       "3    4.2 and up  \n",
       "4    4.4 and up  "
      ]
     },
     "execution_count": 91,
     "metadata": {},
     "output_type": "execute_result"
    }
   ],
   "source": [
    "df = data.copy()\n",
    "df.head()"
   ]
  },
  {
   "cell_type": "code",
   "execution_count": 92,
   "id": "3622a6bf-ca22-4b27-9bd1-52f42201a048",
   "metadata": {},
   "outputs": [
    {
     "data": {
      "text/plain": [
       "array(['159', '967', '87510', ..., '603', '1195', '398307'], dtype=object)"
      ]
     },
     "execution_count": 92,
     "metadata": {},
     "output_type": "execute_result"
    }
   ],
   "source": [
    "#  Reviews lets start with reviews\n",
    "df.Reviews.unique()"
   ]
  },
  {
   "cell_type": "code",
   "execution_count": 93,
   "id": "accec630-6514-4a6c-91c5-d7e848dcc67b",
   "metadata": {},
   "outputs": [
    {
     "data": {
      "text/plain": [
       "Reviews\n",
       "0         596\n",
       "1         272\n",
       "2         214\n",
       "3         175\n",
       "4         137\n",
       "         ... \n",
       "342912      1\n",
       "4272        1\n",
       "5517        1\n",
       "4057        1\n",
       "398307      1\n",
       "Name: count, Length: 6002, dtype: int64"
      ]
     },
     "execution_count": 93,
     "metadata": {},
     "output_type": "execute_result"
    }
   ],
   "source": [
    "df.Reviews.value_counts()"
   ]
  },
  {
   "cell_type": "code",
   "execution_count": 94,
   "id": "c49c21e4-b390-4cc6-be4b-f374b426a132",
   "metadata": {},
   "outputs": [
    {
     "data": {
      "text/plain": [
       "10840"
      ]
     },
     "execution_count": 94,
     "metadata": {},
     "output_type": "execute_result"
    }
   ],
   "source": [
    "df['Reviews'].str.isnumeric().sum()   # checking the numeric values"
   ]
  },
  {
   "cell_type": "code",
   "execution_count": 95,
   "id": "d37d6e3f-bb52-46ee-890a-2c7127e8d8d6",
   "metadata": {},
   "outputs": [
    {
     "data": {
      "text/html": [
       "<div>\n",
       "<style scoped>\n",
       "    .dataframe tbody tr th:only-of-type {\n",
       "        vertical-align: middle;\n",
       "    }\n",
       "\n",
       "    .dataframe tbody tr th {\n",
       "        vertical-align: top;\n",
       "    }\n",
       "\n",
       "    .dataframe thead th {\n",
       "        text-align: right;\n",
       "    }\n",
       "</style>\n",
       "<table border=\"1\" class=\"dataframe\">\n",
       "  <thead>\n",
       "    <tr style=\"text-align: right;\">\n",
       "      <th></th>\n",
       "      <th>App</th>\n",
       "      <th>Category</th>\n",
       "      <th>Rating</th>\n",
       "      <th>Reviews</th>\n",
       "      <th>Size</th>\n",
       "      <th>Installs</th>\n",
       "      <th>Type</th>\n",
       "      <th>Price</th>\n",
       "      <th>Content Rating</th>\n",
       "      <th>Genres</th>\n",
       "      <th>Last Updated</th>\n",
       "      <th>Current Ver</th>\n",
       "      <th>Android Ver</th>\n",
       "    </tr>\n",
       "  </thead>\n",
       "  <tbody>\n",
       "    <tr>\n",
       "      <th>10472</th>\n",
       "      <td>Life Made WI-Fi Touchscreen Photo Frame</td>\n",
       "      <td>1.9</td>\n",
       "      <td>19.0</td>\n",
       "      <td>3.0M</td>\n",
       "      <td>1,000+</td>\n",
       "      <td>Free</td>\n",
       "      <td>0</td>\n",
       "      <td>Everyone</td>\n",
       "      <td>NaN</td>\n",
       "      <td>February 11, 2018</td>\n",
       "      <td>1.0.19</td>\n",
       "      <td>4.0 and up</td>\n",
       "      <td>NaN</td>\n",
       "    </tr>\n",
       "  </tbody>\n",
       "</table>\n",
       "</div>"
      ],
      "text/plain": [
       "                                           App Category  Rating Reviews  \\\n",
       "10472  Life Made WI-Fi Touchscreen Photo Frame      1.9    19.0    3.0M   \n",
       "\n",
       "         Size Installs Type     Price Content Rating             Genres  \\\n",
       "10472  1,000+     Free    0  Everyone            NaN  February 11, 2018   \n",
       "\n",
       "      Last Updated Current Ver Android Ver  \n",
       "10472       1.0.19  4.0 and up         NaN  "
      ]
     },
     "execution_count": 95,
     "metadata": {},
     "output_type": "execute_result"
    }
   ],
   "source": [
    "df[~df['Reviews'].str.isnumeric()]   # it perint the non-numeric values"
   ]
  },
  {
   "cell_type": "code",
   "execution_count": 96,
   "id": "87d3ec70-f19d-4da8-b8db-f625a948b9c4",
   "metadata": {},
   "outputs": [],
   "source": [
    "df.drop(df.index[10472], inplace = True)  #droping the columns"
   ]
  },
  {
   "cell_type": "code",
   "execution_count": 97,
   "id": "f93d5e35-3115-4861-a708-4475396030e3",
   "metadata": {},
   "outputs": [
    {
     "data": {
      "text/html": [
       "<div>\n",
       "<style scoped>\n",
       "    .dataframe tbody tr th:only-of-type {\n",
       "        vertical-align: middle;\n",
       "    }\n",
       "\n",
       "    .dataframe tbody tr th {\n",
       "        vertical-align: top;\n",
       "    }\n",
       "\n",
       "    .dataframe thead th {\n",
       "        text-align: right;\n",
       "    }\n",
       "</style>\n",
       "<table border=\"1\" class=\"dataframe\">\n",
       "  <thead>\n",
       "    <tr style=\"text-align: right;\">\n",
       "      <th></th>\n",
       "      <th>App</th>\n",
       "      <th>Category</th>\n",
       "      <th>Rating</th>\n",
       "      <th>Reviews</th>\n",
       "      <th>Size</th>\n",
       "      <th>Installs</th>\n",
       "      <th>Type</th>\n",
       "      <th>Price</th>\n",
       "      <th>Content Rating</th>\n",
       "      <th>Genres</th>\n",
       "      <th>Last Updated</th>\n",
       "      <th>Current Ver</th>\n",
       "      <th>Android Ver</th>\n",
       "    </tr>\n",
       "  </thead>\n",
       "  <tbody>\n",
       "  </tbody>\n",
       "</table>\n",
       "</div>"
      ],
      "text/plain": [
       "Empty DataFrame\n",
       "Columns: [App, Category, Rating, Reviews, Size, Installs, Type, Price, Content Rating, Genres, Last Updated, Current Ver, Android Ver]\n",
       "Index: []"
      ]
     },
     "execution_count": 97,
     "metadata": {},
     "output_type": "execute_result"
    }
   ],
   "source": [
    "df[~df['Reviews'].str.isnumeric()]"
   ]
  },
  {
   "cell_type": "code",
   "execution_count": 98,
   "id": "c4c03bd4-0d17-4173-aa58-521fda1a4dc2",
   "metadata": {},
   "outputs": [],
   "source": [
    "df.Reviews = df.Reviews.astype(int)"
   ]
  },
  {
   "cell_type": "code",
   "execution_count": 99,
   "id": "b7846a41-4ea6-4160-b66f-0eba7f002f65",
   "metadata": {},
   "outputs": [
    {
     "name": "stdout",
     "output_type": "stream",
     "text": [
      "<class 'pandas.core.frame.DataFrame'>\n",
      "Index: 10840 entries, 0 to 10840\n",
      "Data columns (total 13 columns):\n",
      " #   Column          Non-Null Count  Dtype  \n",
      "---  ------          --------------  -----  \n",
      " 0   App             10840 non-null  object \n",
      " 1   Category        10840 non-null  object \n",
      " 2   Rating          9366 non-null   float64\n",
      " 3   Reviews         10840 non-null  int32  \n",
      " 4   Size            10840 non-null  object \n",
      " 5   Installs        10840 non-null  object \n",
      " 6   Type            10839 non-null  object \n",
      " 7   Price           10840 non-null  object \n",
      " 8   Content Rating  10840 non-null  object \n",
      " 9   Genres          10840 non-null  object \n",
      " 10  Last Updated    10840 non-null  object \n",
      " 11  Current Ver     10832 non-null  object \n",
      " 12  Android Ver     10838 non-null  object \n",
      "dtypes: float64(1), int32(1), object(11)\n",
      "memory usage: 1.1+ MB\n"
     ]
    }
   ],
   "source": [
    "df.info()"
   ]
  },
  {
   "cell_type": "code",
   "execution_count": 100,
   "id": "2689d176-f2f3-4c68-beb7-aff0da78b5fa",
   "metadata": {},
   "outputs": [
    {
     "data": {
      "text/plain": [
       "array(['19M', '14M', '8.7M', '25M', '2.8M', '5.6M', '29M', '33M', '3.1M',\n",
       "       '28M', '12M', '20M', '21M', '37M', '2.7M', '5.5M', '17M', '39M',\n",
       "       '31M', '4.2M', '7.0M', '23M', '6.0M', '6.1M', '4.6M', '9.2M',\n",
       "       '5.2M', '11M', '24M', 'Varies with device', '9.4M', '15M', '10M',\n",
       "       '1.2M', '26M', '8.0M', '7.9M', '56M', '57M', '35M', '54M', '201k',\n",
       "       '3.6M', '5.7M', '8.6M', '2.4M', '27M', '2.5M', '16M', '3.4M',\n",
       "       '8.9M', '3.9M', '2.9M', '38M', '32M', '5.4M', '18M', '1.1M',\n",
       "       '2.2M', '4.5M', '9.8M', '52M', '9.0M', '6.7M', '30M', '2.6M',\n",
       "       '7.1M', '3.7M', '22M', '7.4M', '6.4M', '3.2M', '8.2M', '9.9M',\n",
       "       '4.9M', '9.5M', '5.0M', '5.9M', '13M', '73M', '6.8M', '3.5M',\n",
       "       '4.0M', '2.3M', '7.2M', '2.1M', '42M', '7.3M', '9.1M', '55M',\n",
       "       '23k', '6.5M', '1.5M', '7.5M', '51M', '41M', '48M', '8.5M', '46M',\n",
       "       '8.3M', '4.3M', '4.7M', '3.3M', '40M', '7.8M', '8.8M', '6.6M',\n",
       "       '5.1M', '61M', '66M', '79k', '8.4M', '118k', '44M', '695k', '1.6M',\n",
       "       '6.2M', '18k', '53M', '1.4M', '3.0M', '5.8M', '3.8M', '9.6M',\n",
       "       '45M', '63M', '49M', '77M', '4.4M', '4.8M', '70M', '6.9M', '9.3M',\n",
       "       '10.0M', '8.1M', '36M', '84M', '97M', '2.0M', '1.9M', '1.8M',\n",
       "       '5.3M', '47M', '556k', '526k', '76M', '7.6M', '59M', '9.7M', '78M',\n",
       "       '72M', '43M', '7.7M', '6.3M', '334k', '34M', '93M', '65M', '79M',\n",
       "       '100M', '58M', '50M', '68M', '64M', '67M', '60M', '94M', '232k',\n",
       "       '99M', '624k', '95M', '8.5k', '41k', '292k', '11k', '80M', '1.7M',\n",
       "       '74M', '62M', '69M', '75M', '98M', '85M', '82M', '96M', '87M',\n",
       "       '71M', '86M', '91M', '81M', '92M', '83M', '88M', '704k', '862k',\n",
       "       '899k', '378k', '266k', '375k', '1.3M', '975k', '980k', '4.1M',\n",
       "       '89M', '696k', '544k', '525k', '920k', '779k', '853k', '720k',\n",
       "       '713k', '772k', '318k', '58k', '241k', '196k', '857k', '51k',\n",
       "       '953k', '865k', '251k', '930k', '540k', '313k', '746k', '203k',\n",
       "       '26k', '314k', '239k', '371k', '220k', '730k', '756k', '91k',\n",
       "       '293k', '17k', '74k', '14k', '317k', '78k', '924k', '902k', '818k',\n",
       "       '81k', '939k', '169k', '45k', '475k', '965k', '90M', '545k', '61k',\n",
       "       '283k', '655k', '714k', '93k', '872k', '121k', '322k', '1.0M',\n",
       "       '976k', '172k', '238k', '549k', '206k', '954k', '444k', '717k',\n",
       "       '210k', '609k', '308k', '705k', '306k', '904k', '473k', '175k',\n",
       "       '350k', '383k', '454k', '421k', '70k', '812k', '442k', '842k',\n",
       "       '417k', '412k', '459k', '478k', '335k', '782k', '721k', '430k',\n",
       "       '429k', '192k', '200k', '460k', '728k', '496k', '816k', '414k',\n",
       "       '506k', '887k', '613k', '243k', '569k', '778k', '683k', '592k',\n",
       "       '319k', '186k', '840k', '647k', '191k', '373k', '437k', '598k',\n",
       "       '716k', '585k', '982k', '222k', '219k', '55k', '948k', '323k',\n",
       "       '691k', '511k', '951k', '963k', '25k', '554k', '351k', '27k',\n",
       "       '82k', '208k', '913k', '514k', '551k', '29k', '103k', '898k',\n",
       "       '743k', '116k', '153k', '209k', '353k', '499k', '173k', '597k',\n",
       "       '809k', '122k', '411k', '400k', '801k', '787k', '237k', '50k',\n",
       "       '643k', '986k', '97k', '516k', '837k', '780k', '961k', '269k',\n",
       "       '20k', '498k', '600k', '749k', '642k', '881k', '72k', '656k',\n",
       "       '601k', '221k', '228k', '108k', '940k', '176k', '33k', '663k',\n",
       "       '34k', '942k', '259k', '164k', '458k', '245k', '629k', '28k',\n",
       "       '288k', '775k', '785k', '636k', '916k', '994k', '309k', '485k',\n",
       "       '914k', '903k', '608k', '500k', '54k', '562k', '847k', '957k',\n",
       "       '688k', '811k', '270k', '48k', '329k', '523k', '921k', '874k',\n",
       "       '981k', '784k', '280k', '24k', '518k', '754k', '892k', '154k',\n",
       "       '860k', '364k', '387k', '626k', '161k', '879k', '39k', '970k',\n",
       "       '170k', '141k', '160k', '144k', '143k', '190k', '376k', '193k',\n",
       "       '246k', '73k', '658k', '992k', '253k', '420k', '404k', '470k',\n",
       "       '226k', '240k', '89k', '234k', '257k', '861k', '467k', '157k',\n",
       "       '44k', '676k', '67k', '552k', '885k', '1020k', '582k', '619k'],\n",
       "      dtype=object)"
      ]
     },
     "execution_count": 100,
     "metadata": {},
     "output_type": "execute_result"
    }
   ],
   "source": [
    "# now handling Size\n",
    "\n",
    "df.Size.unique()"
   ]
  },
  {
   "cell_type": "code",
   "execution_count": 101,
   "id": "05a497a6-b45c-41ae-9555-4cf51c06b239",
   "metadata": {},
   "outputs": [],
   "source": [
    "df['Size'] = df['Size'].str.replace('M','000')  #converting M into million"
   ]
  },
  {
   "cell_type": "code",
   "execution_count": 102,
   "id": "86c54f73-402c-45e0-ab57-07f35c4ecf8f",
   "metadata": {},
   "outputs": [],
   "source": [
    "df['Size'] = df['Size'].str.replace('k','')     #Converting K into thousands"
   ]
  },
  {
   "cell_type": "code",
   "execution_count": 103,
   "id": "0e794e2a-7d6f-4ff6-ab90-342a9cadd94a",
   "metadata": {},
   "outputs": [],
   "source": [
    "df['Size'] = df['Size'].replace('Varies with device', np.nan)  # handling a string "
   ]
  },
  {
   "cell_type": "code",
   "execution_count": 104,
   "id": "35fb453d-a89b-45ee-b826-e8a7f476ae7d",
   "metadata": {},
   "outputs": [],
   "source": [
    "df['Size'] = df['Size'].astype(float)   #finally converting into float"
   ]
  },
  {
   "cell_type": "code",
   "execution_count": 105,
   "id": "ca34fd1f-8b2a-480b-9e6e-9b4cb0765d80",
   "metadata": {},
   "outputs": [
    {
     "data": {
      "text/plain": [
       "0        19000.0\n",
       "1        14000.0\n",
       "2            8.7\n",
       "3        25000.0\n",
       "4            2.8\n",
       "          ...   \n",
       "10836    53000.0\n",
       "10837        3.6\n",
       "10838        9.5\n",
       "10839        NaN\n",
       "10840    19000.0\n",
       "Name: Size, Length: 10840, dtype: float64"
      ]
     },
     "execution_count": 105,
     "metadata": {},
     "output_type": "execute_result"
    }
   ],
   "source": [
    "df['Size']"
   ]
  },
  {
   "cell_type": "code",
   "execution_count": 106,
   "id": "7eba8f72-2b52-442e-a502-755a4b0754f7",
   "metadata": {},
   "outputs": [
    {
     "data": {
      "text/plain": [
       "37      NaN\n",
       "42      NaN\n",
       "52      NaN\n",
       "67      NaN\n",
       "68      NaN\n",
       "         ..\n",
       "10713   NaN\n",
       "10725   NaN\n",
       "10765   NaN\n",
       "10826   NaN\n",
       "10839   NaN\n",
       "Name: Size, Length: 1695, dtype: float64"
      ]
     },
     "execution_count": 106,
     "metadata": {},
     "output_type": "execute_result"
    }
   ],
   "source": [
    "df.Size[~df['Size'].notna()]"
   ]
  },
  {
   "cell_type": "code",
   "execution_count": 107,
   "id": "2eaebebe-814b-45f6-a77f-7fcc967698d5",
   "metadata": {},
   "outputs": [
    {
     "name": "stdout",
     "output_type": "stream",
     "text": [
      "<class 'pandas.core.frame.DataFrame'>\n",
      "Index: 10840 entries, 0 to 10840\n",
      "Data columns (total 13 columns):\n",
      " #   Column          Non-Null Count  Dtype  \n",
      "---  ------          --------------  -----  \n",
      " 0   App             10840 non-null  object \n",
      " 1   Category        10840 non-null  object \n",
      " 2   Rating          9366 non-null   float64\n",
      " 3   Reviews         10840 non-null  int32  \n",
      " 4   Size            9145 non-null   float64\n",
      " 5   Installs        10840 non-null  object \n",
      " 6   Type            10839 non-null  object \n",
      " 7   Price           10840 non-null  object \n",
      " 8   Content Rating  10840 non-null  object \n",
      " 9   Genres          10840 non-null  object \n",
      " 10  Last Updated    10840 non-null  object \n",
      " 11  Current Ver     10832 non-null  object \n",
      " 12  Android Ver     10838 non-null  object \n",
      "dtypes: float64(2), int32(1), object(10)\n",
      "memory usage: 1.1+ MB\n"
     ]
    }
   ],
   "source": [
    "df.info()"
   ]
  },
  {
   "cell_type": "code",
   "execution_count": 108,
   "id": "4cc9d473-f356-4849-b3cf-56164e8641d0",
   "metadata": {},
   "outputs": [
    {
     "data": {
      "text/plain": [
       "array(['10,000+', '500,000+', '5,000,000+', '50,000,000+', '100,000+',\n",
       "       '50,000+', '1,000,000+', '10,000,000+', '5,000+', '100,000,000+',\n",
       "       '1,000,000,000+', '1,000+', '500,000,000+', '50+', '100+', '500+',\n",
       "       '10+', '1+', '5+', '0+', '0'], dtype=object)"
      ]
     },
     "execution_count": 108,
     "metadata": {},
     "output_type": "execute_result"
    }
   ],
   "source": [
    "df.Installs.unique()  # checking unique values "
   ]
  },
  {
   "cell_type": "code",
   "execution_count": 109,
   "id": "88adebf3-3577-463a-a888-d4af035e24fd",
   "metadata": {},
   "outputs": [],
   "source": [
    "# now we want to remove '+', ','\n",
    "items = ['+',',']\n",
    "\n",
    "for item in items :\n",
    "    df['Installs'] = df['Installs'].str.replace(item,'')"
   ]
  },
  {
   "cell_type": "code",
   "execution_count": 110,
   "id": "a5173076-a23e-4e65-99a6-4d80fdceaba9",
   "metadata": {},
   "outputs": [
    {
     "data": {
      "text/plain": [
       "array(['10000', '500000', '5000000', '50000000', '100000', '50000',\n",
       "       '1000000', '10000000', '5000', '100000000', '1000000000', '1000',\n",
       "       '500000000', '50', '100', '500', '10', '1', '5', '0'], dtype=object)"
      ]
     },
     "execution_count": 110,
     "metadata": {},
     "output_type": "execute_result"
    }
   ],
   "source": [
    "df['Installs'].unique()"
   ]
  },
  {
   "cell_type": "code",
   "execution_count": 111,
   "id": "9054eee8-153b-423d-9dea-255507a716ac",
   "metadata": {},
   "outputs": [],
   "source": [
    "df['Installs']= df['Installs'].astype(int)"
   ]
  },
  {
   "cell_type": "code",
   "execution_count": 112,
   "id": "2c92f712-3b99-4b5a-bd2c-200973f1d7b1",
   "metadata": {},
   "outputs": [
    {
     "name": "stdout",
     "output_type": "stream",
     "text": [
      "<class 'pandas.core.frame.DataFrame'>\n",
      "Index: 10840 entries, 0 to 10840\n",
      "Data columns (total 13 columns):\n",
      " #   Column          Non-Null Count  Dtype  \n",
      "---  ------          --------------  -----  \n",
      " 0   App             10840 non-null  object \n",
      " 1   Category        10840 non-null  object \n",
      " 2   Rating          9366 non-null   float64\n",
      " 3   Reviews         10840 non-null  int32  \n",
      " 4   Size            9145 non-null   float64\n",
      " 5   Installs        10840 non-null  int32  \n",
      " 6   Type            10839 non-null  object \n",
      " 7   Price           10840 non-null  object \n",
      " 8   Content Rating  10840 non-null  object \n",
      " 9   Genres          10840 non-null  object \n",
      " 10  Last Updated    10840 non-null  object \n",
      " 11  Current Ver     10832 non-null  object \n",
      " 12  Android Ver     10838 non-null  object \n",
      "dtypes: float64(2), int32(2), object(9)\n",
      "memory usage: 1.1+ MB\n"
     ]
    }
   ],
   "source": [
    "df.info()"
   ]
  },
  {
   "cell_type": "code",
   "execution_count": 113,
   "id": "538c05d6-1ca2-40bb-9f25-4a3a0216f5d3",
   "metadata": {},
   "outputs": [
    {
     "data": {
      "text/plain": [
       "array(['Free', 'Paid', nan], dtype=object)"
      ]
     },
     "execution_count": 113,
     "metadata": {},
     "output_type": "execute_result"
    }
   ],
   "source": [
    "# Now handling type\n",
    "\n",
    "df['Type'].unique()"
   ]
  },
  {
   "cell_type": "code",
   "execution_count": 114,
   "id": "f822e4b4-ed2c-4033-a4a3-ddc758b3ca37",
   "metadata": {},
   "outputs": [],
   "source": [
    "# Cleaning types columns\n",
    "\n",
    "df = df.dropna(subset = ['Type'])"
   ]
  },
  {
   "cell_type": "code",
   "execution_count": 115,
   "id": "1b8c110f-24bc-4fd4-8fb1-e42a209f6c2a",
   "metadata": {},
   "outputs": [
    {
     "data": {
      "text/plain": [
       "0"
      ]
     },
     "execution_count": 115,
     "metadata": {},
     "output_type": "execute_result"
    }
   ],
   "source": [
    "df['Type'].isna().sum()"
   ]
  },
  {
   "cell_type": "code",
   "execution_count": 116,
   "id": "daa8b686-00ca-4706-9811-335b14a1a3d5",
   "metadata": {},
   "outputs": [
    {
     "data": {
      "text/plain": [
       "array([[1., 0.],\n",
       "       [1., 0.],\n",
       "       [1., 0.],\n",
       "       ...,\n",
       "       [1., 0.],\n",
       "       [1., 0.],\n",
       "       [1., 0.]])"
      ]
     },
     "execution_count": 116,
     "metadata": {},
     "output_type": "execute_result"
    }
   ],
   "source": [
    "# Using One Hot Encoding for this categorical data\n",
    "\n",
    "from sklearn.preprocessing import OneHotEncoder\n",
    "\n",
    "encoder = OneHotEncoder()\n",
    "\n",
    "encoded = encoder.fit_transform(df[['Type']]).toarray()\n",
    "encoded"
   ]
  },
  {
   "cell_type": "code",
   "execution_count": 117,
   "id": "55c47544-6aa2-4257-ae44-2146d81c0e82",
   "metadata": {},
   "outputs": [],
   "source": [
    "df.drop('Type', inplace = True, axis = 1)"
   ]
  },
  {
   "cell_type": "code",
   "execution_count": 118,
   "id": "1afcbd03-9467-4236-8792-cd12401ae54b",
   "metadata": {},
   "outputs": [],
   "source": [
    "encoded_Df = pd.DataFrame(encoded, columns = encoder.get_feature_names_out(['Type']))"
   ]
  },
  {
   "cell_type": "code",
   "execution_count": 119,
   "id": "0acbe40d-bf2a-4489-98ec-515e25dd23ae",
   "metadata": {},
   "outputs": [],
   "source": [
    "df = pd.concat([df,encoded_Df], axis = 1)"
   ]
  },
  {
   "cell_type": "code",
   "execution_count": 120,
   "id": "d3604855-57ee-48a2-b86b-de6341ce7304",
   "metadata": {},
   "outputs": [
    {
     "data": {
      "text/html": [
       "<div>\n",
       "<style scoped>\n",
       "    .dataframe tbody tr th:only-of-type {\n",
       "        vertical-align: middle;\n",
       "    }\n",
       "\n",
       "    .dataframe tbody tr th {\n",
       "        vertical-align: top;\n",
       "    }\n",
       "\n",
       "    .dataframe thead th {\n",
       "        text-align: right;\n",
       "    }\n",
       "</style>\n",
       "<table border=\"1\" class=\"dataframe\">\n",
       "  <thead>\n",
       "    <tr style=\"text-align: right;\">\n",
       "      <th></th>\n",
       "      <th>App</th>\n",
       "      <th>Category</th>\n",
       "      <th>Rating</th>\n",
       "      <th>Reviews</th>\n",
       "      <th>Size</th>\n",
       "      <th>Installs</th>\n",
       "      <th>Price</th>\n",
       "      <th>Content Rating</th>\n",
       "      <th>Genres</th>\n",
       "      <th>Last Updated</th>\n",
       "      <th>Current Ver</th>\n",
       "      <th>Android Ver</th>\n",
       "      <th>Type_Free</th>\n",
       "      <th>Type_Paid</th>\n",
       "    </tr>\n",
       "  </thead>\n",
       "  <tbody>\n",
       "    <tr>\n",
       "      <th>0</th>\n",
       "      <td>Photo Editor &amp; Candy Camera &amp; Grid &amp; ScrapBook</td>\n",
       "      <td>ART_AND_DESIGN</td>\n",
       "      <td>4.1</td>\n",
       "      <td>159.0</td>\n",
       "      <td>19000.0</td>\n",
       "      <td>10000.0</td>\n",
       "      <td>0</td>\n",
       "      <td>Everyone</td>\n",
       "      <td>Art &amp; Design</td>\n",
       "      <td>January 7, 2018</td>\n",
       "      <td>1.0.0</td>\n",
       "      <td>4.0.3 and up</td>\n",
       "      <td>1.0</td>\n",
       "      <td>0.0</td>\n",
       "    </tr>\n",
       "    <tr>\n",
       "      <th>1</th>\n",
       "      <td>Coloring book moana</td>\n",
       "      <td>ART_AND_DESIGN</td>\n",
       "      <td>3.9</td>\n",
       "      <td>967.0</td>\n",
       "      <td>14000.0</td>\n",
       "      <td>500000.0</td>\n",
       "      <td>0</td>\n",
       "      <td>Everyone</td>\n",
       "      <td>Art &amp; Design;Pretend Play</td>\n",
       "      <td>January 15, 2018</td>\n",
       "      <td>2.0.0</td>\n",
       "      <td>4.0.3 and up</td>\n",
       "      <td>1.0</td>\n",
       "      <td>0.0</td>\n",
       "    </tr>\n",
       "    <tr>\n",
       "      <th>2</th>\n",
       "      <td>U Launcher Lite – FREE Live Cool Themes, Hide ...</td>\n",
       "      <td>ART_AND_DESIGN</td>\n",
       "      <td>4.7</td>\n",
       "      <td>87510.0</td>\n",
       "      <td>8.7</td>\n",
       "      <td>5000000.0</td>\n",
       "      <td>0</td>\n",
       "      <td>Everyone</td>\n",
       "      <td>Art &amp; Design</td>\n",
       "      <td>August 1, 2018</td>\n",
       "      <td>1.2.4</td>\n",
       "      <td>4.0.3 and up</td>\n",
       "      <td>1.0</td>\n",
       "      <td>0.0</td>\n",
       "    </tr>\n",
       "    <tr>\n",
       "      <th>3</th>\n",
       "      <td>Sketch - Draw &amp; Paint</td>\n",
       "      <td>ART_AND_DESIGN</td>\n",
       "      <td>4.5</td>\n",
       "      <td>215644.0</td>\n",
       "      <td>25000.0</td>\n",
       "      <td>50000000.0</td>\n",
       "      <td>0</td>\n",
       "      <td>Teen</td>\n",
       "      <td>Art &amp; Design</td>\n",
       "      <td>June 8, 2018</td>\n",
       "      <td>Varies with device</td>\n",
       "      <td>4.2 and up</td>\n",
       "      <td>1.0</td>\n",
       "      <td>0.0</td>\n",
       "    </tr>\n",
       "    <tr>\n",
       "      <th>4</th>\n",
       "      <td>Pixel Draw - Number Art Coloring Book</td>\n",
       "      <td>ART_AND_DESIGN</td>\n",
       "      <td>4.3</td>\n",
       "      <td>967.0</td>\n",
       "      <td>2.8</td>\n",
       "      <td>100000.0</td>\n",
       "      <td>0</td>\n",
       "      <td>Everyone</td>\n",
       "      <td>Art &amp; Design;Creativity</td>\n",
       "      <td>June 20, 2018</td>\n",
       "      <td>1.1</td>\n",
       "      <td>4.4 and up</td>\n",
       "      <td>1.0</td>\n",
       "      <td>0.0</td>\n",
       "    </tr>\n",
       "  </tbody>\n",
       "</table>\n",
       "</div>"
      ],
      "text/plain": [
       "                                                 App        Category  Rating  \\\n",
       "0     Photo Editor & Candy Camera & Grid & ScrapBook  ART_AND_DESIGN     4.1   \n",
       "1                                Coloring book moana  ART_AND_DESIGN     3.9   \n",
       "2  U Launcher Lite – FREE Live Cool Themes, Hide ...  ART_AND_DESIGN     4.7   \n",
       "3                              Sketch - Draw & Paint  ART_AND_DESIGN     4.5   \n",
       "4              Pixel Draw - Number Art Coloring Book  ART_AND_DESIGN     4.3   \n",
       "\n",
       "    Reviews     Size    Installs Price Content Rating  \\\n",
       "0     159.0  19000.0     10000.0     0       Everyone   \n",
       "1     967.0  14000.0    500000.0     0       Everyone   \n",
       "2   87510.0      8.7   5000000.0     0       Everyone   \n",
       "3  215644.0  25000.0  50000000.0     0           Teen   \n",
       "4     967.0      2.8    100000.0     0       Everyone   \n",
       "\n",
       "                      Genres      Last Updated         Current Ver  \\\n",
       "0               Art & Design   January 7, 2018               1.0.0   \n",
       "1  Art & Design;Pretend Play  January 15, 2018               2.0.0   \n",
       "2               Art & Design    August 1, 2018               1.2.4   \n",
       "3               Art & Design      June 8, 2018  Varies with device   \n",
       "4    Art & Design;Creativity     June 20, 2018                 1.1   \n",
       "\n",
       "    Android Ver  Type_Free  Type_Paid  \n",
       "0  4.0.3 and up        1.0        0.0  \n",
       "1  4.0.3 and up        1.0        0.0  \n",
       "2  4.0.3 and up        1.0        0.0  \n",
       "3    4.2 and up        1.0        0.0  \n",
       "4    4.4 and up        1.0        0.0  "
      ]
     },
     "execution_count": 120,
     "metadata": {},
     "output_type": "execute_result"
    }
   ],
   "source": [
    "df.head()"
   ]
  },
  {
   "cell_type": "markdown",
   "id": "19ac46ff-565e-4a43-98e7-19f383eb484b",
   "metadata": {},
   "source": [
    "## Now Handle Price"
   ]
  },
  {
   "cell_type": "code",
   "execution_count": 121,
   "id": "358c4fb1-09ef-4c63-bea2-1edb622f7e8b",
   "metadata": {},
   "outputs": [
    {
     "data": {
      "text/plain": [
       "array(['0', '$4.99', '$3.99', '$6.99', '$1.49', '$2.99', '$7.99', '$5.99',\n",
       "       '$3.49', '$1.99', '$9.99', '$7.49', '$0.99', '$9.00', '$5.49',\n",
       "       '$10.00', '$24.99', '$11.99', '$79.99', '$16.99', '$14.99',\n",
       "       '$1.00', '$29.99', '$12.99', '$2.49', '$10.99', '$1.50', '$19.99',\n",
       "       '$15.99', '$33.99', '$74.99', '$39.99', '$3.95', '$4.49', '$1.70',\n",
       "       '$8.99', '$2.00', '$3.88', '$25.99', '$399.99', '$17.99',\n",
       "       '$400.00', '$3.02', '$1.76', '$4.84', '$4.77', '$1.61', '$2.50',\n",
       "       '$1.59', '$6.49', '$1.29', '$5.00', '$13.99', '$299.99', '$379.99',\n",
       "       '$37.99', '$18.99', '$389.99', '$19.90', '$8.49', '$1.75',\n",
       "       '$14.00', '$4.85', '$46.99', '$109.99', '$154.99', '$3.08',\n",
       "       '$2.59', '$4.80', '$1.96', '$19.40', '$3.90', '$4.59', '$15.46',\n",
       "       '$3.04', '$4.29', '$2.60', '$3.28', '$4.60', '$28.99', '$2.95',\n",
       "       '$2.90', '$1.97', '$200.00', '$89.99', '$2.56', '$30.99', '$3.61',\n",
       "       '$394.99', '$1.26', '$1.20', '$1.04', nan], dtype=object)"
      ]
     },
     "execution_count": 121,
     "metadata": {},
     "output_type": "execute_result"
    }
   ],
   "source": [
    "df['Price'].unique()"
   ]
  },
  {
   "cell_type": "code",
   "execution_count": 122,
   "id": "b4f220ea-7984-4954-8a36-1641bd16b6ba",
   "metadata": {},
   "outputs": [
    {
     "data": {
      "text/plain": [
       "array([  0.  ,   4.99,   3.99,   6.99,   1.49,   2.99,   7.99,   5.99,\n",
       "         3.49,   1.99,   9.99,   7.49,   0.99,   9.  ,   5.49,  10.  ,\n",
       "        24.99,  11.99,  79.99,  16.99,  14.99,   1.  ,  29.99,  12.99,\n",
       "         2.49,  10.99,   1.5 ,  19.99,  15.99,  33.99,  74.99,  39.99,\n",
       "         3.95,   4.49,   1.7 ,   8.99,   2.  ,   3.88,  25.99, 399.99,\n",
       "        17.99, 400.  ,   3.02,   1.76,   4.84,   4.77,   1.61,   2.5 ,\n",
       "         1.59,   6.49,   1.29,   5.  ,  13.99, 299.99, 379.99,  37.99,\n",
       "        18.99, 389.99,  19.9 ,   8.49,   1.75,  14.  ,   4.85,  46.99,\n",
       "       109.99, 154.99,   3.08,   2.59,   4.8 ,   1.96,  19.4 ,   3.9 ,\n",
       "         4.59,  15.46,   3.04,   4.29,   2.6 ,   3.28,   4.6 ,  28.99,\n",
       "         2.95,   2.9 ,   1.97, 200.  ,  89.99,   2.56,  30.99,   3.61,\n",
       "       394.99,   1.26,   1.2 ,   1.04,    nan])"
      ]
     },
     "execution_count": 122,
     "metadata": {},
     "output_type": "execute_result"
    }
   ],
   "source": [
    "df['Price'] = df['Price'].str.replace('$','')\n",
    "df['Price'] = df['Price'].astype('float')\n",
    "df['Price'].unique()"
   ]
  },
  {
   "cell_type": "code",
   "execution_count": 123,
   "id": "d6c553ba-c820-47d0-9a44-5ca12a0b02ab",
   "metadata": {},
   "outputs": [
    {
     "data": {
      "text/html": [
       "<div>\n",
       "<style scoped>\n",
       "    .dataframe tbody tr th:only-of-type {\n",
       "        vertical-align: middle;\n",
       "    }\n",
       "\n",
       "    .dataframe tbody tr th {\n",
       "        vertical-align: top;\n",
       "    }\n",
       "\n",
       "    .dataframe thead th {\n",
       "        text-align: right;\n",
       "    }\n",
       "</style>\n",
       "<table border=\"1\" class=\"dataframe\">\n",
       "  <thead>\n",
       "    <tr style=\"text-align: right;\">\n",
       "      <th></th>\n",
       "      <th>App</th>\n",
       "      <th>Category</th>\n",
       "      <th>Rating</th>\n",
       "      <th>Reviews</th>\n",
       "      <th>Size</th>\n",
       "      <th>Installs</th>\n",
       "      <th>Price</th>\n",
       "      <th>Content Rating</th>\n",
       "      <th>Genres</th>\n",
       "      <th>Last Updated</th>\n",
       "      <th>Current Ver</th>\n",
       "      <th>Android Ver</th>\n",
       "      <th>Type_Free</th>\n",
       "      <th>Type_Paid</th>\n",
       "    </tr>\n",
       "  </thead>\n",
       "  <tbody>\n",
       "    <tr>\n",
       "      <th>0</th>\n",
       "      <td>Photo Editor &amp; Candy Camera &amp; Grid &amp; ScrapBook</td>\n",
       "      <td>ART_AND_DESIGN</td>\n",
       "      <td>4.1</td>\n",
       "      <td>159.0</td>\n",
       "      <td>19000.0</td>\n",
       "      <td>10000.0</td>\n",
       "      <td>0.0</td>\n",
       "      <td>Everyone</td>\n",
       "      <td>Art &amp; Design</td>\n",
       "      <td>January 7, 2018</td>\n",
       "      <td>1.0.0</td>\n",
       "      <td>4.0.3 and up</td>\n",
       "      <td>1.0</td>\n",
       "      <td>0.0</td>\n",
       "    </tr>\n",
       "    <tr>\n",
       "      <th>1</th>\n",
       "      <td>Coloring book moana</td>\n",
       "      <td>ART_AND_DESIGN</td>\n",
       "      <td>3.9</td>\n",
       "      <td>967.0</td>\n",
       "      <td>14000.0</td>\n",
       "      <td>500000.0</td>\n",
       "      <td>0.0</td>\n",
       "      <td>Everyone</td>\n",
       "      <td>Art &amp; Design;Pretend Play</td>\n",
       "      <td>January 15, 2018</td>\n",
       "      <td>2.0.0</td>\n",
       "      <td>4.0.3 and up</td>\n",
       "      <td>1.0</td>\n",
       "      <td>0.0</td>\n",
       "    </tr>\n",
       "  </tbody>\n",
       "</table>\n",
       "</div>"
      ],
      "text/plain": [
       "                                              App        Category  Rating  \\\n",
       "0  Photo Editor & Candy Camera & Grid & ScrapBook  ART_AND_DESIGN     4.1   \n",
       "1                             Coloring book moana  ART_AND_DESIGN     3.9   \n",
       "\n",
       "   Reviews     Size  Installs  Price Content Rating  \\\n",
       "0    159.0  19000.0   10000.0    0.0       Everyone   \n",
       "1    967.0  14000.0  500000.0    0.0       Everyone   \n",
       "\n",
       "                      Genres      Last Updated Current Ver   Android Ver  \\\n",
       "0               Art & Design   January 7, 2018       1.0.0  4.0.3 and up   \n",
       "1  Art & Design;Pretend Play  January 15, 2018       2.0.0  4.0.3 and up   \n",
       "\n",
       "   Type_Free  Type_Paid  \n",
       "0        1.0        0.0  \n",
       "1        1.0        0.0  "
      ]
     },
     "execution_count": 123,
     "metadata": {},
     "output_type": "execute_result"
    }
   ],
   "source": [
    "df.head(2)"
   ]
  },
  {
   "cell_type": "code",
   "execution_count": 124,
   "id": "f6bdb845-b766-4472-af53-aea8c909e2a2",
   "metadata": {},
   "outputs": [
    {
     "data": {
      "text/plain": [
       "array(['Everyone', 'Teen', 'Everyone 10+', 'Mature 17+',\n",
       "       'Adults only 18+', 'Unrated', nan], dtype=object)"
      ]
     },
     "execution_count": 124,
     "metadata": {},
     "output_type": "execute_result"
    }
   ],
   "source": [
    "df['Content Rating'].unique()"
   ]
  },
  {
   "cell_type": "code",
   "execution_count": 125,
   "id": "1ffd0b86-7640-4826-9d01-0930f7d204ed",
   "metadata": {},
   "outputs": [
    {
     "data": {
      "text/plain": [
       "Content Rating\n",
       "Everyone           8714\n",
       "Teen               1208\n",
       "Mature 17+          499\n",
       "Everyone 10+        413\n",
       "Adults only 18+       3\n",
       "Unrated               2\n",
       "Name: count, dtype: int64"
      ]
     },
     "execution_count": 125,
     "metadata": {},
     "output_type": "execute_result"
    }
   ],
   "source": [
    "df['Content Rating'].value_counts()"
   ]
  },
  {
   "cell_type": "markdown",
   "id": "98f5992b-97b1-4449-ba17-408faa800872",
   "metadata": {},
   "source": [
    "## Observation\n",
    "1. content Rating is a categorical column and categories are mentioned above.\n",
    "2. Can convert this column into min_age."
   ]
  },
  {
   "cell_type": "code",
   "execution_count": 128,
   "id": "77b7aaa3-aa18-491d-a3f5-2976bebdaf6a",
   "metadata": {},
   "outputs": [
    {
     "data": {
      "text/plain": [
       "array([ 1., 13., 11., 18., 19., nan])"
      ]
     },
     "execution_count": 128,
     "metadata": {},
     "output_type": "execute_result"
    }
   ],
   "source": [
    "df['min_age'] = df['Content Rating'].map({'Everyone':1, 'Teen':13, 'Mature 17+':18, 'Everyone 10+' : 11, 'Adults only 18+' : 19,\n",
    "                                              'Unrated':1})\n",
    "df['min_age'].unique()"
   ]
  },
  {
   "cell_type": "code",
   "execution_count": 129,
   "id": "594244fa-b48c-4b5b-82b5-6c2efd632689",
   "metadata": {},
   "outputs": [],
   "source": [
    "df.drop('Content Rating', inplace=True, axis = 1)"
   ]
  },
  {
   "cell_type": "code",
   "execution_count": 130,
   "id": "c953c477-a02b-4edc-bf33-f1b34486d710",
   "metadata": {},
   "outputs": [
    {
     "data": {
      "text/html": [
       "<div>\n",
       "<style scoped>\n",
       "    .dataframe tbody tr th:only-of-type {\n",
       "        vertical-align: middle;\n",
       "    }\n",
       "\n",
       "    .dataframe tbody tr th {\n",
       "        vertical-align: top;\n",
       "    }\n",
       "\n",
       "    .dataframe thead th {\n",
       "        text-align: right;\n",
       "    }\n",
       "</style>\n",
       "<table border=\"1\" class=\"dataframe\">\n",
       "  <thead>\n",
       "    <tr style=\"text-align: right;\">\n",
       "      <th></th>\n",
       "      <th>App</th>\n",
       "      <th>Category</th>\n",
       "      <th>Rating</th>\n",
       "      <th>Reviews</th>\n",
       "      <th>Size</th>\n",
       "      <th>Installs</th>\n",
       "      <th>Price</th>\n",
       "      <th>Genres</th>\n",
       "      <th>Last Updated</th>\n",
       "      <th>Current Ver</th>\n",
       "      <th>Android Ver</th>\n",
       "      <th>Type_Free</th>\n",
       "      <th>Type_Paid</th>\n",
       "      <th>min_age</th>\n",
       "    </tr>\n",
       "  </thead>\n",
       "  <tbody>\n",
       "    <tr>\n",
       "      <th>0</th>\n",
       "      <td>Photo Editor &amp; Candy Camera &amp; Grid &amp; ScrapBook</td>\n",
       "      <td>ART_AND_DESIGN</td>\n",
       "      <td>4.1</td>\n",
       "      <td>159.0</td>\n",
       "      <td>19000.0</td>\n",
       "      <td>10000.0</td>\n",
       "      <td>0.0</td>\n",
       "      <td>Art &amp; Design</td>\n",
       "      <td>January 7, 2018</td>\n",
       "      <td>1.0.0</td>\n",
       "      <td>4.0.3 and up</td>\n",
       "      <td>1.0</td>\n",
       "      <td>0.0</td>\n",
       "      <td>1.0</td>\n",
       "    </tr>\n",
       "    <tr>\n",
       "      <th>1</th>\n",
       "      <td>Coloring book moana</td>\n",
       "      <td>ART_AND_DESIGN</td>\n",
       "      <td>3.9</td>\n",
       "      <td>967.0</td>\n",
       "      <td>14000.0</td>\n",
       "      <td>500000.0</td>\n",
       "      <td>0.0</td>\n",
       "      <td>Art &amp; Design;Pretend Play</td>\n",
       "      <td>January 15, 2018</td>\n",
       "      <td>2.0.0</td>\n",
       "      <td>4.0.3 and up</td>\n",
       "      <td>1.0</td>\n",
       "      <td>0.0</td>\n",
       "      <td>1.0</td>\n",
       "    </tr>\n",
       "  </tbody>\n",
       "</table>\n",
       "</div>"
      ],
      "text/plain": [
       "                                              App        Category  Rating  \\\n",
       "0  Photo Editor & Candy Camera & Grid & ScrapBook  ART_AND_DESIGN     4.1   \n",
       "1                             Coloring book moana  ART_AND_DESIGN     3.9   \n",
       "\n",
       "   Reviews     Size  Installs  Price                     Genres  \\\n",
       "0    159.0  19000.0   10000.0    0.0               Art & Design   \n",
       "1    967.0  14000.0  500000.0    0.0  Art & Design;Pretend Play   \n",
       "\n",
       "       Last Updated Current Ver   Android Ver  Type_Free  Type_Paid  min_age  \n",
       "0   January 7, 2018       1.0.0  4.0.3 and up        1.0        0.0      1.0  \n",
       "1  January 15, 2018       2.0.0  4.0.3 and up        1.0        0.0      1.0  "
      ]
     },
     "execution_count": 130,
     "metadata": {},
     "output_type": "execute_result"
    }
   ],
   "source": [
    "df.head(2)"
   ]
  },
  {
   "cell_type": "markdown",
   "id": "5e31dcd8-bee3-4c8a-ad56-8a65d7421f3a",
   "metadata": {},
   "source": [
    "## Now Converting Last Updated into Datetime formart"
   ]
  },
  {
   "cell_type": "code",
   "execution_count": 132,
   "id": "3c97abbf-9b0e-4e60-9f3d-ce25922510f9",
   "metadata": {},
   "outputs": [
    {
     "data": {
      "text/plain": [
       "array(['January 7, 2018', 'January 15, 2018', 'August 1, 2018', ...,\n",
       "       'February 16, 2014', 'March 23, 2014', nan], dtype=object)"
      ]
     },
     "execution_count": 132,
     "metadata": {},
     "output_type": "execute_result"
    }
   ],
   "source": [
    "df['Last Updated'].unique()"
   ]
  },
  {
   "cell_type": "code",
   "execution_count": 135,
   "id": "d4e95e1e-50fd-486c-8f41-4f48507ee3bc",
   "metadata": {},
   "outputs": [],
   "source": [
    "df['Last Updated'] = pd.to_datetime(df['Last Updated'])  #converted into datetime"
   ]
  },
  {
   "cell_type": "code",
   "execution_count": 136,
   "id": "454f3eed-dab7-41ac-8a27-a7023d99062a",
   "metadata": {},
   "outputs": [
    {
     "name": "stdout",
     "output_type": "stream",
     "text": [
      "<class 'pandas.core.frame.DataFrame'>\n",
      "Index: 10841 entries, 0 to 10472\n",
      "Data columns (total 14 columns):\n",
      " #   Column        Non-Null Count  Dtype         \n",
      "---  ------        --------------  -----         \n",
      " 0   App           10839 non-null  object        \n",
      " 1   Category      10839 non-null  object        \n",
      " 2   Rating        9366 non-null   float64       \n",
      " 3   Reviews       10839 non-null  float64       \n",
      " 4   Size          9145 non-null   float64       \n",
      " 5   Installs      10839 non-null  float64       \n",
      " 6   Price         10839 non-null  float64       \n",
      " 7   Genres        10839 non-null  object        \n",
      " 8   Last Updated  10839 non-null  datetime64[ns]\n",
      " 9   Current Ver   10831 non-null  object        \n",
      " 10  Android Ver   10837 non-null  object        \n",
      " 11  Type_Free     10839 non-null  float64       \n",
      " 12  Type_Paid     10839 non-null  float64       \n",
      " 13  min_age       10839 non-null  float64       \n",
      "dtypes: datetime64[ns](1), float64(8), object(5)\n",
      "memory usage: 1.2+ MB\n"
     ]
    }
   ],
   "source": [
    "df.info()"
   ]
  },
  {
   "cell_type": "code",
   "execution_count": 145,
   "id": "a5b3118f-d797-406e-8f60-473ed8e2d46e",
   "metadata": {},
   "outputs": [
    {
     "name": "stdout",
     "output_type": "stream",
     "text": [
      "We have 5 numerical features : ['App', 'Category', 'Genres', 'Current Ver', 'Android Ver']\n",
      "We have 9 categorical features : ['Rating', 'Reviews', 'Size', 'Installs', 'Price', 'Last Updated', 'Type_Free', 'Type_Paid', 'min_age']\n"
     ]
    }
   ],
   "source": [
    "categorical_col = [features for features in df.columns if df[features].dtype != 'O'] \n",
    "numerical_col = [features for features in df.columns if df[features].dtype == 'O'] \n",
    "\n",
    "print(\"We have {} numerical features : {}\".format(len(numerical_col), numerical_col))\n",
    "print(\"We have {} categorical features : {}\".format(len(categorical_col), categorical_col))"
   ]
  },
  {
   "cell_type": "code",
   "execution_count": null,
   "id": "98dadb50-6e02-42c6-aa9b-0dbd919e6532",
   "metadata": {},
   "outputs": [],
   "source": []
  },
  {
   "cell_type": "code",
   "execution_count": null,
   "id": "5031a33b-e856-445b-9004-a3a76c985cf8",
   "metadata": {},
   "outputs": [],
   "source": []
  },
  {
   "cell_type": "code",
   "execution_count": null,
   "id": "092d5c19-3050-4c74-8029-027f161ffafd",
   "metadata": {},
   "outputs": [],
   "source": []
  },
  {
   "cell_type": "code",
   "execution_count": null,
   "id": "4368480d-7fba-4a01-8764-9b021a115a8b",
   "metadata": {},
   "outputs": [],
   "source": []
  },
  {
   "cell_type": "code",
   "execution_count": null,
   "id": "c43b13de-97e6-48c3-b569-91c6162f249d",
   "metadata": {},
   "outputs": [],
   "source": []
  },
  {
   "cell_type": "code",
   "execution_count": null,
   "id": "cacbe5a9-fa86-4d96-8a62-bd037f3ece65",
   "metadata": {},
   "outputs": [],
   "source": []
  },
  {
   "cell_type": "code",
   "execution_count": null,
   "id": "cfe4f873-325e-403f-91d1-f6a104c2b919",
   "metadata": {},
   "outputs": [],
   "source": []
  },
  {
   "cell_type": "code",
   "execution_count": null,
   "id": "70c6ba04-a213-4178-a5ef-979af8b416fb",
   "metadata": {},
   "outputs": [],
   "source": []
  },
  {
   "cell_type": "code",
   "execution_count": null,
   "id": "c1d39c05-a672-4dbf-b99f-aaa52ad1af0b",
   "metadata": {},
   "outputs": [],
   "source": []
  }
 ],
 "metadata": {
  "kernelspec": {
   "display_name": "Python 3 (ipykernel)",
   "language": "python",
   "name": "python3"
  },
  "language_info": {
   "codemirror_mode": {
    "name": "ipython",
    "version": 3
   },
   "file_extension": ".py",
   "mimetype": "text/x-python",
   "name": "python",
   "nbconvert_exporter": "python",
   "pygments_lexer": "ipython3",
   "version": "3.12.4"
  }
 },
 "nbformat": 4,
 "nbformat_minor": 5
}
