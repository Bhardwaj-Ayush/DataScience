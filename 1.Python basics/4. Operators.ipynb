{
 "cells": [
  {
   "cell_type": "markdown",
   "metadata": {},
   "source": [
    "# Operators in Python"
   ]
  },
  {
   "cell_type": "markdown",
   "metadata": {},
   "source": [
    "## 1. Airthematic Operators\n",
    "        a. Addition\n",
    "        b. Subtraction\n",
    "        c. Multiplication \n",
    "        d. Division\n",
    "        e. Modulus (remainder of division)\n",
    "        f. Exponentiation (power of a number)\n",
    "        g. Floor Division (round down to the nearest whole number)\n",
    "        h. Ceiling Division (round up to the nearest whole number)"
   ]
  },
  {
   "cell_type": "code",
   "execution_count": 1,
   "metadata": {},
   "outputs": [
    {
     "name": "stdout",
     "output_type": "stream",
     "text": [
      "15 -5 50 0.5 0 5 9765625\n"
     ]
    }
   ],
   "source": [
    "a = 5\n",
    "b = 10\n",
    "\n",
    "add = a+b  #addition\n",
    "sub = a-b  #subtraction\n",
    "mul = a*b  #multiplication\n",
    "div = a/b  #division\n",
    "floor_div = a//b \n",
    "mod = a%b\n",
    "exp = a**b\n",
    "\n",
    "print(add,sub,mul,div,floor_div,mod,exp)\n"
   ]
  },
  {
   "cell_type": "markdown",
   "metadata": {},
   "source": [
    "## Comparision Operator"
   ]
  },
  {
   "cell_type": "code",
   "execution_count": 7,
   "metadata": {},
   "outputs": [
    {
     "data": {
      "text/plain": [
       "True"
      ]
     },
     "execution_count": 7,
     "metadata": {},
     "output_type": "execute_result"
    }
   ],
   "source": [
    "a = 'AYUSH'\n",
    "b = 'ayush'\n",
    "\n",
    "a == b\n",
    "# Output: False\n",
    "\n",
    "a!=b\n",
    "# Output: True\n",
    "\n",
    "a>=b\n",
    "# Output: False\n",
    "\n",
    "a<=b\n",
    "#output: True"
   ]
  },
  {
   "cell_type": "markdown",
   "metadata": {},
   "source": [
    "## Logical Operator"
   ]
  },
  {
   "cell_type": "code",
   "execution_count": null,
   "metadata": {},
   "outputs": [
    {
     "data": {
      "text/plain": [
       "True"
      ]
     },
     "execution_count": 14,
     "metadata": {},
     "output_type": "execute_result"
    }
   ],
   "source": [
    "a = False\n",
    "b = False\n",
    "c = True\n",
    "d = True\n",
    "\n",
    "a and b\n",
    "#result: false\n",
    "\n",
    "a and c\n",
    "#result: false\n",
    "\n",
    "c and d\n",
    "#result: True\n",
    "\n",
    "a or b\n",
    "#result: False\n",
    "\n",
    "a or c\n",
    "#True\n",
    "\n",
    "c or d\n",
    "#True\n",
    "\n"
   ]
  }
 ],
 "metadata": {
  "kernelspec": {
   "display_name": "Python 3",
   "language": "python",
   "name": "python3"
  },
  "language_info": {
   "codemirror_mode": {
    "name": "ipython",
    "version": 3
   },
   "file_extension": ".py",
   "mimetype": "text/x-python",
   "name": "python",
   "nbconvert_exporter": "python",
   "pygments_lexer": "ipython3",
   "version": "3.12.3"
  }
 },
 "nbformat": 4,
 "nbformat_minor": 2
}
