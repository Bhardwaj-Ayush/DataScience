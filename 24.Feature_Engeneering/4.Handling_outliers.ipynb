{
 "cells": [
  {
   "cell_type": "markdown",
   "id": "d2c9e2d4",
   "metadata": {},
   "source": [
    "# Using BOXPLOT to find Outliers\n",
    "## also about 5 number summary [Min, Q1, Median, Q3, Max]"
   ]
  },
  {
   "cell_type": "markdown",
   "id": "2d66b5aa",
   "metadata": {},
   "source": [
    "Box plot is used to visualize outliers present in the dataset"
   ]
  },
  {
   "cell_type": "code",
   "execution_count": 2,
   "id": "6e82fa18",
   "metadata": {},
   "outputs": [],
   "source": [
    "import pandas as pd\n",
    "import numpy as np\n",
    "import matplotlib.pyplot as plt\n",
    "import seaborn as sns"
   ]
  },
  {
   "cell_type": "code",
   "execution_count": 3,
   "id": "841614e4",
   "metadata": {},
   "outputs": [],
   "source": [
    "# creating a list\n",
    "lst = [34,56,24,7,56,35,2,79,54,76,67,34,75,24,13,14,36,53,89,54,99,100,200,244,33,24,1,0,90,-200,-100]\n",
    "# initializing all 5 numbers summary\n",
    "min,Q1,median,Q3,max = np.quantile(lst,[0,0.25,0.50,0.75,1.0])"
   ]
  },
  {
   "cell_type": "code",
   "execution_count": 4,
   "id": "0c8ef52b",
   "metadata": {},
   "outputs": [
    {
     "data": {
      "text/plain": [
       "(-200.0, 19.0, 36.0, 75.5, 244.0)"
      ]
     },
     "execution_count": 4,
     "metadata": {},
     "output_type": "execute_result"
    }
   ],
   "source": [
    "min,Q1,median,Q3,max"
   ]
  },
  {
   "cell_type": "code",
   "execution_count": 5,
   "id": "65dd37c5",
   "metadata": {},
   "outputs": [
    {
     "data": {
      "text/plain": [
       "<Axes: >"
      ]
     },
     "execution_count": 5,
     "metadata": {},
     "output_type": "execute_result"
    },
    {
     "data": {
      "image/png": "[encoded data removed]",
      "text/plain": [
       "<Figure size 640x480 with 1 Axes>"
      ]
     },
     "metadata": {},
     "output_type": "display_data"
    }
   ],
   "source": [
    "# ploting Box plot to find the outliers, also called box, wisker plot\n",
    "sns.boxplot(lst)"
   ]
  },
  {
   "cell_type": "code",
   "execution_count": 6,
   "id": "a7816b4b",
   "metadata": {},
   "outputs": [
    {
     "data": {
      "text/plain": [
       "56.5"
      ]
     },
     "execution_count": 6,
     "metadata": {},
     "output_type": "execute_result"
    }
   ],
   "source": [
    "# now finding IQR i.e inter-quantile range\n",
    "IQR = Q3 - Q1\n",
    "IQR"
   ]
  },
  {
   "cell_type": "code",
   "execution_count": 7,
   "id": "06f41c6c",
   "metadata": {},
   "outputs": [
    {
     "name": "stdout",
     "output_type": "stream",
     "text": [
      "-65.75 160.25\n"
     ]
    }
   ],
   "source": [
    "# now calculate:\n",
    "# 1. LOWER FENCE : datapoint below this consider as outliers\n",
    "# 2. higher FENCE : datapoint above this consider as outliers\n",
    "\n",
    "Lower_fence = Q1 - 1.5*(IQR)\n",
    "Higher_fence = Q3 + 1.5*(IQR)\n",
    "\n",
    "print(Lower_fence, Higher_fence)"
   ]
  },
  {
   "cell_type": "markdown",
   "id": "469c8bde",
   "metadata": {},
   "source": [
    "## filtering out the outliers"
   ]
  },
  {
   "cell_type": "code",
   "execution_count": 8,
   "id": "2e1895b7",
   "metadata": {},
   "outputs": [
    {
     "name": "stdout",
     "output_type": "stream",
     "text": [
      "[34, 56, 24, 7, 56, 35, 2, 79, 54, 76, 67, 34, 75, 24, 13, 14, 36, 53, 89, 54, 99, 100, 33, 24, 1, 0, 90]\n"
     ]
    }
   ],
   "source": [
    "filter_lst = []  #filter list\n",
    "for i in lst:\n",
    "  if (i >= Lower_fence) & (i <= Higher_fence): # extracting elements which is greater than lower and lesser than higher fence\n",
    "    filter_lst.append(i)\n",
    "print(filter_lst)"
   ]
  },
  {
   "cell_type": "code",
   "execution_count": 9,
   "id": "84bc06a6",
   "metadata": {},
   "outputs": [
    {
     "data": {
      "text/plain": [
       "<Axes: >"
      ]
     },
     "execution_count": 9,
     "metadata": {},
     "output_type": "execute_result"
    },
    {
     "data": {
      "image/png": "[encoded data removed]",
      "text/plain": [
       "<Figure size 640x480 with 1 Axes>"
      ]
     },
     "metadata": {},
     "output_type": "display_data"
    }
   ],
   "source": [
    "sns.boxplot(filter_lst)"
   ]
  }
 ],
 "metadata": {
  "kernelspec": {
   "display_name": "base",
   "language": "python",
   "name": "python3"
  },
  "language_info": {
   "codemirror_mode": {
    "name": "ipython",
    "version": 3
   },
   "file_extension": ".py",
   "mimetype": "text/x-python",
   "name": "python",
   "nbconvert_exporter": "python",
   "pygments_lexer": "ipython3",
   "version": "3.12.4"
  }
 },
 "nbformat": 4,
 "nbformat_minor": 5
}
