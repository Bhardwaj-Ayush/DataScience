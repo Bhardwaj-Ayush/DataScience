{
 "cells": [
  {
   "cell_type": "code",
   "execution_count": 1,
   "metadata": {},
   "outputs": [],
   "source": [
    "import sqlite3"
   ]
  },
  {
   "cell_type": "code",
   "execution_count": 2,
   "metadata": {},
   "outputs": [
    {
     "data": {
      "text/plain": [
       "<sqlite3.Connection at 0x1c3872749a0>"
      ]
     },
     "execution_count": 2,
     "metadata": {},
     "output_type": "execute_result"
    }
   ],
   "source": [
    "connection = sqlite3.connect('Example.db')\n",
    "connection"
   ]
  },
  {
   "cell_type": "code",
   "execution_count": 3,
   "metadata": {},
   "outputs": [],
   "source": [
    "cursor = connection.cursor()"
   ]
  },
  {
   "cell_type": "code",
   "execution_count": 6,
   "metadata": {},
   "outputs": [],
   "source": [
    "cursor.execute('''\n",
    "\n",
    "CREATE TABLE IF NOT EXISTS employee(\n",
    "    Id INT PRIMARY KEY,\n",
    "    Name TEXT NOT NULL,\n",
    "    Age INT,\n",
    "    Salary INT NOT NULL,\n",
    "    Department TEXT NOT NULL\n",
    ")\n",
    "''')\n",
    "connection.commit()"
   ]
  },
  {
   "cell_type": "code",
   "execution_count": 8,
   "metadata": {},
   "outputs": [
    {
     "data": {
      "text/plain": [
       "<sqlite3.Cursor at 0x1c3875b79c0>"
      ]
     },
     "execution_count": 8,
     "metadata": {},
     "output_type": "execute_result"
    }
   ],
   "source": [
    "cursor.execute('select * from employee')"
   ]
  },
  {
   "cell_type": "code",
   "execution_count": 14,
   "metadata": {},
   "outputs": [],
   "source": [
    "cursor.execute('''\n",
    "INSERT INTO employee (Id,Name,Age,Salary,Department) VALUES (1,'Ayush',22,1500000,'Data Science')\n",
    "''')\n",
    "\n",
    "cursor.execute('''\n",
    "INSERT INTO employee (Id,Name,Age,Salary,Department) VALUES (2,'Ankit',22,150000,'Science')\n",
    "''')\n",
    "\n",
    "cursor.execute('''\n",
    "INSERT INTO employee (Id,Name,Age,Salary,Department) VALUES (3,'Amit',22,15000,'Data')\n",
    "''')\n",
    "\n",
    "cursor.execute('''\n",
    "INSERT INTO employee (Id,Name,Age,Salary,Department) VALUES (4,'Aaniket',22,100000,'Data Science')\n",
    "''')\n",
    "\n",
    "connection.commit()"
   ]
  },
  {
   "cell_type": "code",
   "execution_count": 15,
   "metadata": {},
   "outputs": [
    {
     "name": "stdout",
     "output_type": "stream",
     "text": [
      "(1, 'Ayush', 22, 1500000, 'Data Science')\n",
      "(2, 'Ankit', 22, 150000, 'Science')\n",
      "(3, 'Amit', 22, 15000, 'Data')\n",
      "(4, 'Aaniket', 22, 100000, 'Data Science')\n"
     ]
    }
   ],
   "source": [
    "cursor.execute('SELECT * FROM employee')\n",
    "\n",
    "rows = cursor.fetchall()\n",
    "\n",
    "for row in rows:\n",
    "    print(row)"
   ]
  },
  {
   "cell_type": "markdown",
   "metadata": {},
   "source": [
    "### using where"
   ]
  },
  {
   "cell_type": "code",
   "execution_count": 20,
   "metadata": {},
   "outputs": [
    {
     "name": "stdout",
     "output_type": "stream",
     "text": [
      "(1, 'Ayush')\n",
      "(4, 'Aaniket')\n"
     ]
    }
   ],
   "source": [
    "cursor.execute('SELECT ID,NAME FROM EMPLOYEE WHERE department == \"Data Science\"')\n",
    "rows = cursor.fetchall()\n",
    "\n",
    "for row in rows:\n",
    "    print(row)\n"
   ]
  },
  {
   "cell_type": "markdown",
   "metadata": {},
   "source": [
    "Update "
   ]
  },
  {
   "cell_type": "code",
   "execution_count": 23,
   "metadata": {},
   "outputs": [],
   "source": [
    "cursor.execute('UPDATE EMPLOYEE SET AGE = 24 WHERE ID = 4')\n",
    "# rows = cursor.fetchall()\n",
    "\n",
    "# for row in rows:\n",
    "#     print(row)\n",
    "connection.commit()"
   ]
  },
  {
   "cell_type": "code",
   "execution_count": 25,
   "metadata": {},
   "outputs": [
    {
     "name": "stdout",
     "output_type": "stream",
     "text": [
      "(1, 'Ayush', 22, 1500000, 'Data Science')\n",
      "(2, 'Ankit', 22, 150000, 'Science')\n",
      "(3, 'Amit', 22, 15000, 'Data')\n",
      "(4, 'Aaniket', 24, 100000, 'Data Science')\n"
     ]
    }
   ],
   "source": [
    "cursor.execute('SELECT * FROM EMPLOYEE')\n",
    "rows = cursor.fetchall()\n",
    "\n",
    "for row in rows:\n",
    "    print(row)"
   ]
  },
  {
   "cell_type": "markdown",
   "metadata": {},
   "source": [
    "### DELETE"
   ]
  },
  {
   "cell_type": "code",
   "execution_count": 27,
   "metadata": {},
   "outputs": [],
   "source": [
    "cursor.execute('DELETE FROM EMPLOYEE WHERE ID = 2')\n",
    "connection.commit()"
   ]
  },
  {
   "cell_type": "code",
   "execution_count": 28,
   "metadata": {},
   "outputs": [
    {
     "name": "stdout",
     "output_type": "stream",
     "text": [
      "(1, 'Ayush', 22, 1500000, 'Data Science')\n",
      "(3, 'Amit', 22, 15000, 'Data')\n",
      "(4, 'Aaniket', 24, 100000, 'Data Science')\n"
     ]
    }
   ],
   "source": [
    "cursor.execute('SELECT * FROM EMPLOYEE')\n",
    "rows = cursor.fetchall()\n",
    "\n",
    "for row in rows:\n",
    "    print(row)"
   ]
  }
 ],
 "metadata": {
  "kernelspec": {
   "display_name": "Python 3",
   "language": "python",
   "name": "python3"
  },
  "language_info": {
   "codemirror_mode": {
    "name": "ipython",
    "version": 3
   },
   "file_extension": ".py",
   "mimetype": "text/x-python",
   "name": "python",
   "nbconvert_exporter": "python",
   "pygments_lexer": "ipython3",
   "version": "3.12.3"
  }
 },
 "nbformat": 4,
 "nbformat_minor": 2
}
