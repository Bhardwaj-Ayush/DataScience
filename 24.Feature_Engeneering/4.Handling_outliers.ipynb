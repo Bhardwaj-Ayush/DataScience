{
 "cells": [
  {
   "cell_type": "markdown",
   "id": "d2c9e2d4",
   "metadata": {},
   "source": [
    "# Using BOXPLOT to find Outliers\n",
    "## also about 5 number summary [Min, Q1, Median, Q3, Max]"
   ]
  },
  {
   "cell_type": "code",
   "execution_count": 2,
   "id": "6e82fa18",
   "metadata": {},
   "outputs": [],
   "source": [
    "import pandas as pd\n",
    "import numpy as np\n",
    "import matplotlib.pyplot as plt\n",
    "import seaborn as sns"
   ]
  },
  {
   "cell_type": "code",
   "execution_count": 3,
   "id": "841614e4",
   "metadata": {},
   "outputs": [],
   "source": [
    "# creating a list\n",
    "lst = [34,56,24,7,56,35,2,79,54,76,67,34,75,24,13,14,36,53,89,54,99,100,200,244,33,24,1,0,90,-200,-100]\n",
    "# initializing all 5 numbers summary\n",
    "min,Q1,median,Q3,max = np.quantile(lst,[0,0.25,0.50,0.75,1.0])"
   ]
  }
 ],
 "metadata": {
  "kernelspec": {
   "display_name": "base",
   "language": "python",
   "name": "python3"
  },
  "language_info": {
   "codemirror_mode": {
    "name": "ipython",
    "version": 3
   },
   "file_extension": ".py",
   "mimetype": "text/x-python",
   "name": "python",
   "nbconvert_exporter": "python",
   "pygments_lexer": "ipython3",
   "version": "3.12.4"
  }
 },
 "nbformat": 4,
 "nbformat_minor": 5
}
