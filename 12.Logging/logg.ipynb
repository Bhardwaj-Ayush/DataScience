{
 "cells": [
  {
   "cell_type": "code",
   "execution_count": 1,
   "id": "be1acd04",
   "metadata": {},
   "outputs": [],
   "source": [
    "import logging"
   ]
  },
  {
   "cell_type": "code",
   "execution_count": 2,
   "id": "d0e647f2",
   "metadata": {},
   "outputs": [
    {
     "name": "stderr",
     "output_type": "stream",
     "text": [
      "DEBUG:root: this is an debug message\n",
      "INFO:root: this is an info message\n",
      "WARNING:root: this is an warning message\n",
      "ERROR:root: this is an error message\n",
      "CRITICAL:root: this is an critical message\n"
     ]
    }
   ],
   "source": [
    "logging.basicConfig(level=logging.DEBUG)\n",
    "\n",
    "\n",
    "logging.debug(\" this is an debug message\")\n",
    "logging.info(\" this is an info message\")\n",
    "logging.warning(\" this is an warning message\")\n",
    "logging.error(\" this is an error message\")\n",
    "logging.critical(\" this is an critical message\")\n",
    "# logging.debug(\" this is an debug message\")"
   ]
  },
  {
   "cell_type": "code",
   "execution_count": 17,
   "id": "ffb79231",
   "metadata": {},
   "outputs": [
    {
     "name": "stderr",
     "output_type": "stream",
     "text": [
      "2025-26-04/06/25  11-26-03-root-DEBUG- this is an debug message\n",
      "2025-26-04/06/25  11-26-03-root-INFO- this is an info message\n",
      "2025-26-04/06/25  11-26-03-root-WARNING- this is an warning message\n",
      "2025-26-04/06/25  11-26-03-root-ERROR- this is an error message\n",
      "2025-26-04/06/25  11-26-03-root-CRITICAL- this is an critical message\n"
     ]
    }
   ],
   "source": [
    "logging.basicConfig(\n",
    "    level=logging.DEBUG,\n",
    "    format = '%(asctime)s-%(name)s-%(levelname)s-%(message)s',\n",
    "    datefmt = '%Y-%M-%D  %H-%M-%S',\n",
    "    force=True\n",
    "\n",
    ")\n",
    "\n",
    "logging.debug(\" this is an debug message\")\n",
    "logging.info(\" this is an info message\")\n",
    "logging.warning(\" this is an warning message\")\n",
    "logging.error(\" this is an error message\")\n",
    "logging.critical(\" this is an critical message\")\n",
    "# logging.debug(\" this is an debug message\")"
   ]
  },
  {
   "cell_type": "code",
   "execution_count": 14,
   "id": "ff7a9c0f",
   "metadata": {},
   "outputs": [],
   "source": [
    "import logging\n",
    "\n",
    "logging.basicConfig(\n",
    "    filename='app.log',\n",
    "    filemode='w',\n",
    "    level=logging.DEBUG,\n",
    "    format='%(asctime)s - %(name)s - %(levelname)s - %(message)s',\n",
    "    datefmt='%Y-%m-%d %H:%M:%S',\n",
    "    force = True\n",
    ")\n",
    "\n",
    "logging.debug(\"This is a debug message\")\n",
    "logging.info(\"This is an infooooo message\")\n",
    "logging.warning(\"This is a warning message\")\n",
    "logging.error(\"This is an error message\")\n",
    "logging.critical(\"This is a critical message\")\n"
   ]
  },
  {
   "cell_type": "code",
   "execution_count": 23,
   "id": "c7bcbd42",
   "metadata": {},
   "outputs": [
    {
     "name": "stderr",
     "output_type": "stream",
     "text": [
      "2025-38-04/06/25  11-38-54-root-DEBUG-start\n",
      "2025-38-04/06/25  11-38-54-root-INFO-Start of our application\n",
      "2025-38-04/06/25  11-38-54-root-INFO-Addition of a and b is 11\n"
     ]
    }
   ],
   "source": [
    "import logging  \n",
    "\n",
    "logging.basicConfig(Level = logging.DEBUG)\n",
    "\n",
    "logging.debug('start')\n",
    "a = 5\n",
    "b = 6\n",
    "\n",
    "logging.info('Start of our application')\n",
    "\n",
    "add = a+b\n",
    "\n",
    "logging.info('Addition of a and b is %d', add)\n",
    "\n"
   ]
  }
 ],
 "metadata": {
  "kernelspec": {
   "display_name": "Python 3",
   "language": "python",
   "name": "python3"
  },
  "language_info": {
   "codemirror_mode": {
    "name": "ipython",
    "version": 3
   },
   "file_extension": ".py",
   "mimetype": "text/x-python",
   "name": "python",
   "nbconvert_exporter": "python",
   "pygments_lexer": "ipython3",
   "version": "3.12.3"
  }
 },
 "nbformat": 4,
 "nbformat_minor": 5
}
